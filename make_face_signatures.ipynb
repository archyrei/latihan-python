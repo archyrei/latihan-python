{
  "cells": [
    {
      "cell_type": "markdown",
      "metadata": {
        "id": "view-in-github",
        "colab_type": "text"
      },
      "source": [
        "<a href=\"https://colab.research.google.com/github/archyrei/latihan-python/blob/main/make_face_signatures.ipynb\" target=\"_parent\"><img src=\"https://colab.research.google.com/assets/colab-badge.svg\" alt=\"Open In Colab\"/></a>"
      ]
    },
    {
      "cell_type": "markdown",
      "metadata": {
        "id": "Pc1FFJL1MoOB"
      },
      "source": [
        "**Membuat dataset *face signatures* FER**\n",
        "\n",
        "---\n",
        "menggunakan MTCNN dan FaceNet, untuk mendapatkan *face pattern*\n",
        "dan dijadikan file csv\n"
      ]
    },
    {
      "cell_type": "code",
      "execution_count": 1,
      "metadata": {
        "colab": {
          "base_uri": "https://localhost:8080/"
        },
        "id": "xPPanGDGBRM-",
        "outputId": "26ae5d9a-a011-4bcd-d9b1-f08da7f5da47"
      },
      "outputs": [
        {
          "output_type": "stream",
          "name": "stdout",
          "text": [
            "Looking in indexes: https://pypi.org/simple, https://us-python.pkg.dev/colab-wheels/public/simple/\n",
            "Collecting git+https://github.com/archyrei/mtcnn.git\n",
            "  Cloning https://github.com/archyrei/mtcnn.git to /tmp/pip-req-build-gvyj83mb\n",
            "  Running command git clone -q https://github.com/archyrei/mtcnn.git /tmp/pip-req-build-gvyj83mb\n",
            "Requirement already satisfied: keras>=2.0.0 in /usr/local/lib/python3.7/dist-packages (from mtcnn==0.1.1) (2.8.0)\n",
            "Requirement already satisfied: opencv-python>=4.1.0 in /usr/local/lib/python3.7/dist-packages (from mtcnn==0.1.1) (4.6.0.66)\n",
            "Requirement already satisfied: numpy>=1.14.5 in /usr/local/lib/python3.7/dist-packages (from opencv-python>=4.1.0->mtcnn==0.1.1) (1.21.6)\n",
            "Building wheels for collected packages: mtcnn\n",
            "  Building wheel for mtcnn (setup.py) ... \u001b[?25l\u001b[?25hdone\n",
            "  Created wheel for mtcnn: filename=mtcnn-0.1.1-py3-none-any.whl size=2260437 sha256=29a6bfb5a77cf05636abfa18917d82edb5f9a8901de9fef2333b962fdef53d83\n",
            "  Stored in directory: /tmp/pip-ephem-wheel-cache-kv74cnxy/wheels/24/fa/a4/644d1511f42c3be469c204ff9d7db04d55fcac7ccb25649009\n",
            "Successfully built mtcnn\n",
            "Installing collected packages: mtcnn\n",
            "Successfully installed mtcnn-0.1.1\n"
          ]
        }
      ],
      "source": [
        "#@title Install MTCNN\n",
        "!pip install git+https://github.com/archyrei/mtcnn.git"
      ]
    },
    {
      "cell_type": "code",
      "execution_count": 2,
      "metadata": {
        "id": "__nJIqpdCqoH"
      },
      "outputs": [],
      "source": [
        "import os\n",
        "import csv\n",
        "from os import listdir\n",
        "from PIL import Image as Img\n",
        "from numpy import asarray\n",
        "from numpy import expand_dims\n",
        "from keras.models import load_model\n",
        "import numpy as np\n",
        "import mtcnn\n",
        "from mtcnn.network.factory import NetworkFactory\n",
        "import tensorflow as tf\n",
        "import matplotlib.pyplot as plt\n",
        "\n",
        "import pickle\n"
      ]
    },
    {
      "cell_type": "code",
      "execution_count": 6,
      "metadata": {
        "id": "bQUNZF-dZywi",
        "colab": {
          "base_uri": "https://localhost:8080/"
        },
        "outputId": "4fdca7c7-146f-4c56-fe63-ef4e656a877a"
      },
      "outputs": [
        {
          "output_type": "stream",
          "name": "stderr",
          "text": [
            "WARNING:tensorflow:No training configuration found in the save file, so the model was *not* compiled. Compile it manually.\n"
          ]
        }
      ],
      "source": [
        "#load keras model\n",
        "iniFacenet = load_model('/content/drive/MyDrive/Colab Notebooks/model/facenet_keras.h5')\n",
        "\n",
        "def extract_face(path):\n",
        "  #buka gambar dan convert ke RGB\n",
        "  gmbr = Img.open(path)\n",
        "  gmbr = gmbr.convert('RGB')\n",
        "  arrGmbr = asarray(gmbr)\n",
        "  detector = mtcnn.MTCNN()\n",
        "  #face detect\n",
        "  face_locations = detector.detect_faces(arrGmbr)\n",
        "  x1, y1, lebar, tinggi = face_locations[0]['box']\n",
        "  x1, y1 = abs(x1), abs(y1)\n",
        "  x2, y2 = x1 + lebar, y1 + tinggi\n",
        "  #extract face\n",
        "  iniFace = arrGmbr[y1:y2, x1:x2]\n",
        "  #resize face\n",
        "  imagi = Img.fromarray(iniFace)\n",
        "  imagi = imagi.resize((160, 160))\n",
        "  arrFace = asarray(imagi)\n",
        "  #penyesuaian dan ...\n",
        "  arrFace = arrFace.astype('float32')\n",
        "  mean, std = arrFace.mean(), arrFace.std()\n",
        "  arrFace = (arrFace - mean) / std\n",
        "  arrFace = expand_dims(arrFace, axis=0)\n",
        "  signature = iniFacenet.predict(arrFace)\n",
        "  return signature[0].tolist()\n",
        "\n",
        "\n",
        "# draw an image with detected objects\n",
        "def draw_facebox(filename, result_list):\n",
        "  data = plt.imread(filename)\n",
        "  plt.imshow(data)\n",
        "  ax = plt.gca()\n",
        "  for result in result_list:\n",
        "    x, y, width, height = result['box']\n",
        "    rect = plt.Rectangle((x, y), width, height,fill=False, color='green',lw=1)\n",
        "    ax.add_patch(rect)\n",
        "    for key, value in result['keypoints'].items():\n",
        "      dot = plt.Circle(value, radius=2, color='red')\n",
        "      ax.add_patch(dot)\n",
        "  plt.show()\n",
        "\n",
        "# draw each face separately\n",
        "def draw_faces(filename, result_list):\n",
        "  # load the image\n",
        "  data = plt.imread(filename)\n",
        "  # plot each face as a subplot\n",
        "  for i in range(len(result_list)):\n",
        "    # get coordinates\n",
        "    x1, y1, width, height = result_list[i]['box']\n",
        "    x2, y2 = x1 + width, y1 + height\n",
        "    # define subplot\n",
        "    plt.subplot(1, len(result_list), i+1)\n",
        "    plt.axis('off')\n",
        "    # plot face\n",
        "    plt.imshow(data[y1:y2, x1:x2])\n",
        "  # show the plot\n",
        "  plt.show()"
      ]
    },
    {
      "cell_type": "code",
      "execution_count": 11,
      "metadata": {
        "id": "W0AOCjFxGJIF"
      },
      "outputs": [],
      "source": [
        "#load image from drive\n",
        "\n",
        "folder_name = \"/content/drive/MyDrive/Gambar/fatigue/\"\n",
        "idx = 0\n",
        "\n",
        "#print(\"Shape of image/array:\", arrGmbr.shape)\n",
        "\n",
        "#imgplot = plt.imshow(arrGmbr)\n",
        "#plt.show()"
      ]
    },
    {
      "cell_type": "code",
      "execution_count": 18,
      "metadata": {
        "id": "STur8sjspmlb"
      },
      "outputs": [],
      "source": [
        "csv_filename = '/content/drive/MyDrive/Colab Notebooks/signatures.csv'\n",
        "\n",
        "with open(csv_filename, mode='w') as csv_file:\n",
        "  #\n",
        "  fieldnames = ['name','signature','label']\n",
        "  writer = csv.DictWriter(csv_file, fieldnames=fieldnames)\n",
        "  writer.writeheader()\n",
        "\n",
        "  for filename in listdir(folder_name):\n",
        "    \n",
        "    #key\n",
        "    idx+=1\n",
        "    path = folder_name + filename\n",
        "    face_extract = extract_face(path)\n",
        "\n",
        "    #make dataset csv\n",
        "    writer.writerow({'name':'face{index}'.format(index=idx),'signature': face_extract,'label':'01'})\n",
        "\n",
        "    #jdijson.update({\"face{index}\".format(index=idx) : signature[0].tolist()})\n",
        "    "
      ]
    },
    {
      "cell_type": "code",
      "execution_count": null,
      "metadata": {
        "id": "ezSVhPxd5MVR"
      },
      "outputs": [],
      "source": [
        "# kosong"
      ]
    },
    {
      "cell_type": "code",
      "source": [
        "# kosong"
      ],
      "metadata": {
        "id": "AI_BQm0TeqU7"
      },
      "execution_count": null,
      "outputs": []
    },
    {
      "cell_type": "code",
      "source": [
        "# Writing to sample.json\n",
        "#with open(\"/content/drive/MyDrive/code/data.json\", \"w\") as outfile:\n",
        "  #json.dump(jdijson, outfile, indent = 3)"
      ],
      "metadata": {
        "id": "V_iHtp9WDxdY"
      },
      "execution_count": null,
      "outputs": []
    },
    {
      "cell_type": "code",
      "source": [
        "# kosong"
      ],
      "metadata": {
        "id": "rBqN2ehzgvkz"
      },
      "execution_count": null,
      "outputs": []
    }
  ],
  "metadata": {
    "colab": {
      "collapsed_sections": [],
      "provenance": [],
      "mount_file_id": "1iNW8oShAyo0EHNrASNi5Iy8HxUiBPrMC",
      "authorship_tag": "ABX9TyODGatVQoO2r7e+jxQarTAO",
      "include_colab_link": true
    },
    "kernelspec": {
      "display_name": "Python 3",
      "name": "python3"
    },
    "language_info": {
      "name": "python"
    }
  },
  "nbformat": 4,
  "nbformat_minor": 0
}